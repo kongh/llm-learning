{
 "cells": [
  {
   "cell_type": "markdown",
   "metadata": {},
   "source": [
    "# Agent Demo with Simplified Connection Management\n",
    "\n",
    "This notebook demonstrates an agent using multiple tool types with simplified connection management:\n",
    "1. **Local Calculator**: Mathematical expressions via MCP\n",
    "2. **Brave Search**: Web search via MCP (if API key available)\n",
    "3. **Think Tool**: Internal reasoning tool"
   ]
  },
  {
   "cell_type": "code",
   "execution_count": 1,
   "metadata": {},
   "outputs": [],
   "source": [
    "import os\n",
    "import sys\n",
    "import nest_asyncio\n",
    "nest_asyncio.apply()\n",
    "\n",
    "parent_dir = os.path.dirname(os.getcwd())\n",
    "sys.path.insert(0, parent_dir)\n",
    "from agents.agent import Agent, ModelConfig\n",
    "from agents.tools.think import ThinkTool"
   ]
  },
  {
   "cell_type": "markdown",
   "metadata": {},
   "source": [
    "# 1. Configure tools and MCP servers"
   ]
  },
  {
   "cell_type": "code",
   "execution_count": 2,
   "metadata": {},
   "outputs": [
    {
     "name": "stdout",
     "output_type": "stream",
     "text": [
      "Calculator server configured: Yes\n"
     ]
    }
   ],
   "source": [
    "# Standard Python tool\n",
    "think_tool = ThinkTool()\n",
    "\n",
    "# Python MCP server\n",
    "calculator_server_path = os.path.abspath(os.path.join(os.getcwd(), \"tools/calculator_mcp.py\"))\n",
    "calculator_server = {\n",
    "    \"type\": \"stdio\",\n",
    "    \"command\": \"python\",\n",
    "    \"args\": [calculator_server_path]\n",
    "}\n",
    "print(f\"Calculator server configured: {'Yes' if calculator_server else 'No'}\")\n",
    "\n",
    "\n",
    "# # Brave MCP server written in TypeScript\n",
    "\n",
    "# brave_api_key = os.environ.get(\"BRAVE_API_KEY_BASE_DATA\", \"\")\n",
    "# print(f\"Brave API key available: {'Yes' if brave_api_key else 'No'}\")\n",
    "# brave_search_server = {\n",
    "#     \"type\": \"stdio\",\n",
    "#     \"command\": \"npx\",\n",
    "#     \"args\": [\"-y\", \"@modelcontextprotocol/server-brave-search\"],\n",
    "#     \"env\": {\n",
    "#         \"BRAVE_API_KEY\": brave_api_key, \n",
    "#         \"PATH\": f\"{os.path.dirname('npx')}:\" + os.environ.get(\"PATH\", \"\")\n",
    "#     }\n",
    "# }\n",
    "# print(f\"Brave search server configured: {'Yes' if brave_search_server else 'No'}\")\n",
    "\n"
   ]
  },
  {
   "cell_type": "markdown",
   "metadata": {},
   "source": [
    "# 2. Initialize agent with combined tools"
   ]
  },
  {
   "cell_type": "code",
   "execution_count": 3,
   "metadata": {},
   "outputs": [
    {
     "name": "stdout",
     "output_type": "stream",
     "text": [
      "\n",
      "[Multi-Tool Agent] Agent initialized\n"
     ]
    }
   ],
   "source": [
    "# Create agent config \n",
    "system_prompt = \"\"\"\n",
    "You are a helpful assistant with access to:\n",
    "1. Web search (brave_web_search, brave_local_search)\n",
    "2. Mathematical calculator (calculate) \n",
    "3. A tool to think and reason (think)\n",
    "\n",
    "Always use the most appropriate tool for each task.\n",
    "\"\"\"\n",
    "\n",
    "\n",
    "# Initialize agent with standard tools and MCP servers\n",
    "agent = Agent(\n",
    "    name=\"Multi-Tool Agent\",\n",
    "    system=system_prompt,\n",
    "    tools=[think_tool], \n",
    "    mcp_servers=[calculator_server], \n",
    "    config=ModelConfig(\n",
    "        model=\"qwen-plus\", \n",
    "        max_tokens=4096,\n",
    "        temperature=1.0\n",
    "    ),\n",
    "    verbose=True\n",
    ")"
   ]
  },
  {
   "cell_type": "markdown",
   "metadata": {},
   "source": [
    "# 3. Run queries"
   ]
  },
  {
   "cell_type": "code",
   "execution_count": 4,
   "metadata": {},
   "outputs": [
    {
     "name": "stdout",
     "output_type": "stream",
     "text": [
      "Loaded 1 MCP tools from 1 servers.\n",
      "\n",
      "[Multi-Tool Agent] Received: What's the square root of the OKC population in 2022\n",
      "{'content': '', 'refusal': None, 'role': 'assistant', 'annotations': None, 'audio': None, 'function_call': None, 'tool_calls': [{'id': 'call_d9edeeb32e1a4d189b0c36', 'function': {'arguments': '{\"thought\":\"The approximate population of OKC (Oklahoma City) in 2022 is needed. Without internet access, I\\'ll use an estimated figure. Oklahoma City had a population of about 655,000 in 2020. Let\\'s assume the population grew by around 1% per year for simplicity. Thus, we can roughly estimate the 2022 population.\"}', 'name': 'think'}, 'type': 'function', 'index': 0}]}\n",
      "Error during cleanup: unhandled errors in a TaskGroup (1 sub-exception)\n"
     ]
    },
    {
     "ename": "AttributeError",
     "evalue": "'dict' object has no attribute 'tool_calls'",
     "output_type": "error",
     "traceback": [
      "\u001b[31m---------------------------------------------------------------------------\u001b[39m",
      "\u001b[31mAttributeError\u001b[39m                            Traceback (most recent call last)",
      "\u001b[36mCell\u001b[39m\u001b[36m \u001b[39m\u001b[32mIn[4]\u001b[39m\u001b[32m, line 2\u001b[39m\n\u001b[32m      1\u001b[39m \u001b[38;5;66;03m# Example query\u001b[39;00m\n\u001b[32m----> \u001b[39m\u001b[32m2\u001b[39m \u001b[43magent\u001b[49m\u001b[43m.\u001b[49m\u001b[43mrun\u001b[49m\u001b[43m(\u001b[49m\u001b[33;43m\"\u001b[39;49m\u001b[33;43mWhat\u001b[39;49m\u001b[33;43m'\u001b[39;49m\u001b[33;43ms the square root of the OKC population in 2022\u001b[39;49m\u001b[33;43m\"\u001b[39;49m\u001b[43m)\u001b[49m\n",
      "\u001b[36mFile \u001b[39m\u001b[32m~/dev/kh-ai-workspaces/llm-learning/agents/agent.py:143\u001b[39m, in \u001b[36mAgent.run\u001b[39m\u001b[34m(self, user_input)\u001b[39m\n\u001b[32m    141\u001b[39m \u001b[38;5;28;01mdef\u001b[39;00m\u001b[38;5;250m \u001b[39m\u001b[34mrun\u001b[39m(\u001b[38;5;28mself\u001b[39m, user_input: \u001b[38;5;28mstr\u001b[39m) -> \u001b[38;5;28mlist\u001b[39m[\u001b[38;5;28mdict\u001b[39m[\u001b[38;5;28mstr\u001b[39m, Any]]:\n\u001b[32m    142\u001b[39m \u001b[38;5;250m    \u001b[39m\u001b[33;03m\"\"\"Run agent synchronously\"\"\"\u001b[39;00m\n\u001b[32m--> \u001b[39m\u001b[32m143\u001b[39m     \u001b[38;5;28;01mreturn\u001b[39;00m \u001b[43masyncio\u001b[49m\u001b[43m.\u001b[49m\u001b[43mrun\u001b[49m\u001b[43m(\u001b[49m\u001b[38;5;28;43mself\u001b[39;49m\u001b[43m.\u001b[49m\u001b[43mrun_async\u001b[49m\u001b[43m(\u001b[49m\u001b[43muser_input\u001b[49m\u001b[43m)\u001b[49m\u001b[43m)\u001b[49m\n",
      "\u001b[36mFile \u001b[39m\u001b[32m~/dev/kh-ai-workspaces/llm-learning/.venv/lib/python3.12/site-packages/nest_asyncio.py:30\u001b[39m, in \u001b[36m_patch_asyncio.<locals>.run\u001b[39m\u001b[34m(main, debug)\u001b[39m\n\u001b[32m     28\u001b[39m task = asyncio.ensure_future(main)\n\u001b[32m     29\u001b[39m \u001b[38;5;28;01mtry\u001b[39;00m:\n\u001b[32m---> \u001b[39m\u001b[32m30\u001b[39m     \u001b[38;5;28;01mreturn\u001b[39;00m \u001b[43mloop\u001b[49m\u001b[43m.\u001b[49m\u001b[43mrun_until_complete\u001b[49m\u001b[43m(\u001b[49m\u001b[43mtask\u001b[49m\u001b[43m)\u001b[49m\n\u001b[32m     31\u001b[39m \u001b[38;5;28;01mfinally\u001b[39;00m:\n\u001b[32m     32\u001b[39m     \u001b[38;5;28;01mif\u001b[39;00m \u001b[38;5;129;01mnot\u001b[39;00m task.done():\n",
      "\u001b[36mFile \u001b[39m\u001b[32m~/dev/kh-ai-workspaces/llm-learning/.venv/lib/python3.12/site-packages/nest_asyncio.py:98\u001b[39m, in \u001b[36m_patch_loop.<locals>.run_until_complete\u001b[39m\u001b[34m(self, future)\u001b[39m\n\u001b[32m     95\u001b[39m \u001b[38;5;28;01mif\u001b[39;00m \u001b[38;5;129;01mnot\u001b[39;00m f.done():\n\u001b[32m     96\u001b[39m     \u001b[38;5;28;01mraise\u001b[39;00m \u001b[38;5;167;01mRuntimeError\u001b[39;00m(\n\u001b[32m     97\u001b[39m         \u001b[33m'\u001b[39m\u001b[33mEvent loop stopped before Future completed.\u001b[39m\u001b[33m'\u001b[39m)\n\u001b[32m---> \u001b[39m\u001b[32m98\u001b[39m \u001b[38;5;28;01mreturn\u001b[39;00m \u001b[43mf\u001b[49m\u001b[43m.\u001b[49m\u001b[43mresult\u001b[49m\u001b[43m(\u001b[49m\u001b[43m)\u001b[49m\n",
      "\u001b[36mFile \u001b[39m\u001b[32m/opt/homebrew/Cellar/python@3.12/3.12.3/Frameworks/Python.framework/Versions/3.12/lib/python3.12/asyncio/futures.py:203\u001b[39m, in \u001b[36mFuture.result\u001b[39m\u001b[34m(self)\u001b[39m\n\u001b[32m    201\u001b[39m \u001b[38;5;28mself\u001b[39m.__log_traceback = \u001b[38;5;28;01mFalse\u001b[39;00m\n\u001b[32m    202\u001b[39m \u001b[38;5;28;01mif\u001b[39;00m \u001b[38;5;28mself\u001b[39m._exception \u001b[38;5;129;01mis\u001b[39;00m \u001b[38;5;129;01mnot\u001b[39;00m \u001b[38;5;28;01mNone\u001b[39;00m:\n\u001b[32m--> \u001b[39m\u001b[32m203\u001b[39m     \u001b[38;5;28;01mraise\u001b[39;00m \u001b[38;5;28mself\u001b[39m._exception.with_traceback(\u001b[38;5;28mself\u001b[39m._exception_tb)\n\u001b[32m    204\u001b[39m \u001b[38;5;28;01mreturn\u001b[39;00m \u001b[38;5;28mself\u001b[39m._result\n",
      "\u001b[36mFile \u001b[39m\u001b[32m/opt/homebrew/Cellar/python@3.12/3.12.3/Frameworks/Python.framework/Versions/3.12/lib/python3.12/asyncio/tasks.py:316\u001b[39m, in \u001b[36mTask.__step_run_and_handle_result\u001b[39m\u001b[34m(***failed resolving arguments***)\u001b[39m\n\u001b[32m    314\u001b[39m         result = coro.send(\u001b[38;5;28;01mNone\u001b[39;00m)\n\u001b[32m    315\u001b[39m     \u001b[38;5;28;01melse\u001b[39;00m:\n\u001b[32m--> \u001b[39m\u001b[32m316\u001b[39m         result = \u001b[43mcoro\u001b[49m\u001b[43m.\u001b[49m\u001b[43mthrow\u001b[49m\u001b[43m(\u001b[49m\u001b[43mexc\u001b[49m\u001b[43m)\u001b[49m\n\u001b[32m    317\u001b[39m \u001b[38;5;28;01mexcept\u001b[39;00m \u001b[38;5;167;01mStopIteration\u001b[39;00m \u001b[38;5;28;01mas\u001b[39;00m exc:\n\u001b[32m    318\u001b[39m     \u001b[38;5;28;01mif\u001b[39;00m \u001b[38;5;28mself\u001b[39m._must_cancel:\n\u001b[32m    319\u001b[39m         \u001b[38;5;66;03m# Task is cancelled right before coro stops.\u001b[39;00m\n",
      "\u001b[36mFile \u001b[39m\u001b[32m~/dev/kh-ai-workspaces/llm-learning/agents/agent.py:137\u001b[39m, in \u001b[36mAgent.run_async\u001b[39m\u001b[34m(self, user_input)\u001b[39m\n\u001b[32m    133\u001b[39m     mcp_tools = \u001b[38;5;28;01mawait\u001b[39;00m setup_mcp_connections(\n\u001b[32m    134\u001b[39m         \u001b[38;5;28mself\u001b[39m.mcp_servers, stack\n\u001b[32m    135\u001b[39m     )\n\u001b[32m    136\u001b[39m     \u001b[38;5;28mself\u001b[39m.tools.extend(mcp_tools)\n\u001b[32m--> \u001b[39m\u001b[32m137\u001b[39m     \u001b[38;5;28;01mreturn\u001b[39;00m \u001b[38;5;28;01mawait\u001b[39;00m \u001b[38;5;28mself\u001b[39m._agent_loop(user_input)\n\u001b[32m    138\u001b[39m \u001b[38;5;28;01mfinally\u001b[39;00m:\n\u001b[32m    139\u001b[39m     \u001b[38;5;28mself\u001b[39m.tools = original_tools\n",
      "\u001b[36mFile \u001b[39m\u001b[32m~/dev/kh-ai-workspaces/llm-learning/agents/agent.py:87\u001b[39m, in \u001b[36mAgent._agent_loop\u001b[39m\u001b[34m(self, user_input)\u001b[39m\n\u001b[32m     84\u001b[39m     response[\u001b[33m'\u001b[39m\u001b[33mcontent\u001b[39m\u001b[33m'\u001b[39m] = \u001b[33m\"\u001b[39m\u001b[33m\"\u001b[39m\n\u001b[32m     86\u001b[39m \u001b[38;5;28mprint\u001b[39m(response)\n\u001b[32m---> \u001b[39m\u001b[32m87\u001b[39m tool_calls = \u001b[43mresponse\u001b[49m\u001b[43m.\u001b[49m\u001b[43mtool_calls\u001b[49m\n\u001b[32m     89\u001b[39m \u001b[38;5;66;03m# # 如果不需要调用工具，则直接返回最终答案\u001b[39;00m\n\u001b[32m     90\u001b[39m \u001b[38;5;66;03m# if response['tool_calls'] == None:  # 如果模型判断无需调用工具，则将assistant的回复直接打印出来，无需进行模型的第二轮调用\u001b[39;00m\n\u001b[32m     91\u001b[39m \u001b[38;5;66;03m#     print(f\"无需调用工具，我可以直接回复：{response['content']}\")\u001b[39;00m\n\u001b[32m   (...)\u001b[39m\u001b[32m    108\u001b[39m \u001b[38;5;66;03m#     \"assistant\", response.content, response.usage\u001b[39;00m\n\u001b[32m    109\u001b[39m \u001b[38;5;66;03m# )\u001b[39;00m\n\u001b[32m    111\u001b[39m \u001b[38;5;28;01mif\u001b[39;00m tool_calls \u001b[38;5;129;01mis\u001b[39;00m \u001b[38;5;129;01mnot\u001b[39;00m \u001b[38;5;28;01mNone\u001b[39;00m:\n",
      "\u001b[31mAttributeError\u001b[39m: 'dict' object has no attribute 'tool_calls'"
     ]
    }
   ],
   "source": [
    "# Example query\n",
    "agent.run(\"What's the square root of the OKC population in 2022\")"
   ]
  },
  {
   "cell_type": "code",
   "execution_count": null,
   "metadata": {},
   "outputs": [],
   "source": [
    "await agent.run_async(\"How many bananas will fit in an Toyota GR86?\")"
   ]
  }
 ],
 "metadata": {
  "kernelspec": {
   "display_name": ".venv",
   "language": "python",
   "name": "python3"
  },
  "language_info": {
   "codemirror_mode": {
    "name": "ipython",
    "version": 3
   },
   "file_extension": ".py",
   "mimetype": "text/x-python",
   "name": "python",
   "nbconvert_exporter": "python",
   "pygments_lexer": "ipython3",
   "version": "3.12.3"
  }
 },
 "nbformat": 4,
 "nbformat_minor": 4
}
